{
 "cells": [
  {
   "cell_type": "code",
   "execution_count": 1,
   "id": "e1c6f782-c156-4f9c-89f3-30df615e7122",
   "metadata": {},
   "outputs": [
    {
     "name": "stdout",
     "output_type": "stream",
     "text": [
      "Requirement already satisfied: mediapipe in c:\\users\\ajits\\pycharmprojects\\seniorresearch\\venv\\lib\\site-packages (0.10.5)\n",
      "Requirement already satisfied: opencv-python in c:\\users\\ajits\\pycharmprojects\\seniorresearch\\venv\\lib\\site-packages (4.8.1.78)\n",
      "Requirement already satisfied: absl-py in c:\\users\\ajits\\pycharmprojects\\seniorresearch\\venv\\lib\\site-packages (from mediapipe) (0.15.0)\n",
      "Requirement already satisfied: attrs>=19.1.0 in c:\\users\\ajits\\pycharmprojects\\seniorresearch\\venv\\lib\\site-packages (from mediapipe) (23.1.0)\n",
      "Requirement already satisfied: flatbuffers>=2.0 in c:\\users\\ajits\\pycharmprojects\\seniorresearch\\venv\\lib\\site-packages (from mediapipe) (23.5.26)\n",
      "Requirement already satisfied: matplotlib in c:\\users\\ajits\\pycharmprojects\\seniorresearch\\venv\\lib\\site-packages (from mediapipe) (3.8.0)\n",
      "Requirement already satisfied: numpy in c:\\users\\ajits\\pycharmprojects\\seniorresearch\\venv\\lib\\site-packages (from mediapipe) (1.21.0)\n",
      "Requirement already satisfied: opencv-contrib-python in c:\\users\\ajits\\pycharmprojects\\seniorresearch\\venv\\lib\\site-packages (from mediapipe) (4.8.1.78)\n",
      "Requirement already satisfied: protobuf<4,>=3.11 in c:\\users\\ajits\\pycharmprojects\\seniorresearch\\venv\\lib\\site-packages (from mediapipe) (3.20.3)\n",
      "Requirement already satisfied: sounddevice>=0.4.4 in c:\\users\\ajits\\pycharmprojects\\seniorresearch\\venv\\lib\\site-packages (from mediapipe) (0.4.6)\n",
      "Requirement already satisfied: CFFI>=1.0 in c:\\users\\ajits\\pycharmprojects\\seniorresearch\\venv\\lib\\site-packages (from sounddevice>=0.4.4->mediapipe) (1.16.0)\n",
      "Requirement already satisfied: six in c:\\users\\ajits\\pycharmprojects\\seniorresearch\\venv\\lib\\site-packages (from absl-py->mediapipe) (1.15.0)\n",
      "Requirement already satisfied: contourpy>=1.0.1 in c:\\users\\ajits\\pycharmprojects\\seniorresearch\\venv\\lib\\site-packages (from matplotlib->mediapipe) (1.1.1)\n",
      "Requirement already satisfied: cycler>=0.10 in c:\\users\\ajits\\pycharmprojects\\seniorresearch\\venv\\lib\\site-packages (from matplotlib->mediapipe) (0.12.0)\n",
      "Requirement already satisfied: fonttools>=4.22.0 in c:\\users\\ajits\\pycharmprojects\\seniorresearch\\venv\\lib\\site-packages (from matplotlib->mediapipe) (4.43.0)\n",
      "Requirement already satisfied: kiwisolver>=1.0.1 in c:\\users\\ajits\\pycharmprojects\\seniorresearch\\venv\\lib\\site-packages (from matplotlib->mediapipe) (1.4.5)\n",
      "Requirement already satisfied: packaging>=20.0 in c:\\users\\ajits\\pycharmprojects\\seniorresearch\\venv\\lib\\site-packages (from matplotlib->mediapipe) (23.2)\n",
      "Requirement already satisfied: pillow>=6.2.0 in c:\\users\\ajits\\pycharmprojects\\seniorresearch\\venv\\lib\\site-packages (from matplotlib->mediapipe) (10.0.1)\n",
      "Requirement already satisfied: pyparsing>=2.3.1 in c:\\users\\ajits\\pycharmprojects\\seniorresearch\\venv\\lib\\site-packages (from matplotlib->mediapipe) (3.1.1)\n",
      "Requirement already satisfied: python-dateutil>=2.7 in c:\\users\\ajits\\pycharmprojects\\seniorresearch\\venv\\lib\\site-packages (from matplotlib->mediapipe) (2.8.2)\n",
      "Requirement already satisfied: importlib-resources>=3.2.0 in c:\\users\\ajits\\pycharmprojects\\seniorresearch\\venv\\lib\\site-packages (from matplotlib->mediapipe) (6.1.0)\n",
      "Requirement already satisfied: pycparser in c:\\users\\ajits\\pycharmprojects\\seniorresearch\\venv\\lib\\site-packages (from CFFI>=1.0->sounddevice>=0.4.4->mediapipe) (2.21)\n",
      "Requirement already satisfied: zipp>=3.1.0 in c:\\users\\ajits\\pycharmprojects\\seniorresearch\\venv\\lib\\site-packages (from importlib-resources>=3.2.0->matplotlib->mediapipe) (3.17.0)\n"
     ]
    }
   ],
   "source": [
    "!pip install mediapipe opencv-python"
   ]
  },
  {
   "cell_type": "code",
   "execution_count": 2,
   "id": "0c617507-2921-48c0-a70e-086b46aa5c8b",
   "metadata": {},
   "outputs": [
    {
     "ename": "TypeError",
     "evalue": "'numpy._DTypeMeta' object is not subscriptable",
     "output_type": "error",
     "traceback": [
      "\u001b[1;31m---------------------------------------------------------------------------\u001b[0m",
      "\u001b[1;31mTypeError\u001b[0m                                 Traceback (most recent call last)",
      "Cell \u001b[1;32mIn[2], line 1\u001b[0m\n\u001b[1;32m----> 1\u001b[0m \u001b[39mimport\u001b[39;00m \u001b[39mcv2\u001b[39;00m\n\u001b[0;32m      2\u001b[0m \u001b[39mimport\u001b[39;00m \u001b[39mmediapipe\u001b[39;00m \u001b[39mas\u001b[39;00m \u001b[39mmp\u001b[39;00m\n\u001b[0;32m      4\u001b[0m \u001b[39m# Initialize MediaPipe Pose\u001b[39;00m\n",
      "File \u001b[1;32mc:\\Users\\ajits\\PycharmProjects\\SeniorResearch\\venv\\lib\\site-packages\\cv2\\__init__.py:181\u001b[0m\n\u001b[0;32m    176\u001b[0m             \u001b[39mif\u001b[39;00m DEBUG: \u001b[39mprint\u001b[39m(\u001b[39m\"\u001b[39m\u001b[39mExtra Python code for\u001b[39m\u001b[39m\"\u001b[39m, submodule, \u001b[39m\"\u001b[39m\u001b[39mis loaded\u001b[39m\u001b[39m\"\u001b[39m)\n\u001b[0;32m    178\u001b[0m     \u001b[39mif\u001b[39;00m DEBUG: \u001b[39mprint\u001b[39m(\u001b[39m'\u001b[39m\u001b[39mOpenCV loader: DONE\u001b[39m\u001b[39m'\u001b[39m)\n\u001b[1;32m--> 181\u001b[0m bootstrap()\n",
      "File \u001b[1;32mc:\\Users\\ajits\\PycharmProjects\\SeniorResearch\\venv\\lib\\site-packages\\cv2\\__init__.py:175\u001b[0m, in \u001b[0;36mbootstrap\u001b[1;34m()\u001b[0m\n\u001b[0;32m    172\u001b[0m \u001b[39mif\u001b[39;00m DEBUG: \u001b[39mprint\u001b[39m(\u001b[39m'\u001b[39m\u001b[39mOpenCV loader: binary extension... OK\u001b[39m\u001b[39m'\u001b[39m)\n\u001b[0;32m    174\u001b[0m \u001b[39mfor\u001b[39;00m submodule \u001b[39min\u001b[39;00m __collect_extra_submodules(DEBUG):\n\u001b[1;32m--> 175\u001b[0m     \u001b[39mif\u001b[39;00m __load_extra_py_code_for_module(\u001b[39m\"\u001b[39;49m\u001b[39mcv2\u001b[39;49m\u001b[39m\"\u001b[39;49m, submodule, DEBUG):\n\u001b[0;32m    176\u001b[0m         \u001b[39mif\u001b[39;00m DEBUG: \u001b[39mprint\u001b[39m(\u001b[39m\"\u001b[39m\u001b[39mExtra Python code for\u001b[39m\u001b[39m\"\u001b[39m, submodule, \u001b[39m\"\u001b[39m\u001b[39mis loaded\u001b[39m\u001b[39m\"\u001b[39m)\n\u001b[0;32m    178\u001b[0m \u001b[39mif\u001b[39;00m DEBUG: \u001b[39mprint\u001b[39m(\u001b[39m'\u001b[39m\u001b[39mOpenCV loader: DONE\u001b[39m\u001b[39m'\u001b[39m)\n",
      "File \u001b[1;32mc:\\Users\\ajits\\PycharmProjects\\SeniorResearch\\venv\\lib\\site-packages\\cv2\\__init__.py:28\u001b[0m, in \u001b[0;36m__load_extra_py_code_for_module\u001b[1;34m(base, name, enable_debug_print)\u001b[0m\n\u001b[0;32m     26\u001b[0m native_module \u001b[39m=\u001b[39m sys\u001b[39m.\u001b[39mmodules\u001b[39m.\u001b[39mpop(module_name, \u001b[39mNone\u001b[39;00m)\n\u001b[0;32m     27\u001b[0m \u001b[39mtry\u001b[39;00m:\n\u001b[1;32m---> 28\u001b[0m     py_module \u001b[39m=\u001b[39m importlib\u001b[39m.\u001b[39;49mimport_module(module_name)\n\u001b[0;32m     29\u001b[0m \u001b[39mexcept\u001b[39;00m \u001b[39mImportError\u001b[39;00m \u001b[39mas\u001b[39;00m err:\n\u001b[0;32m     30\u001b[0m     \u001b[39mif\u001b[39;00m enable_debug_print:\n",
      "File \u001b[1;32m~\\AppData\\Local\\Programs\\Python\\Python39\\lib\\importlib\\__init__.py:127\u001b[0m, in \u001b[0;36mimport_module\u001b[1;34m(name, package)\u001b[0m\n\u001b[0;32m    125\u001b[0m             \u001b[39mbreak\u001b[39;00m\n\u001b[0;32m    126\u001b[0m         level \u001b[39m+\u001b[39m\u001b[39m=\u001b[39m \u001b[39m1\u001b[39m\n\u001b[1;32m--> 127\u001b[0m \u001b[39mreturn\u001b[39;00m _bootstrap\u001b[39m.\u001b[39;49m_gcd_import(name[level:], package, level)\n",
      "File \u001b[1;32mc:\\Users\\ajits\\PycharmProjects\\SeniorResearch\\venv\\lib\\site-packages\\cv2\\typing\\__init__.py:69\u001b[0m\n\u001b[0;32m     65\u001b[0m \u001b[39mimport\u001b[39;00m \u001b[39mtyping\u001b[39;00m\n\u001b[0;32m     68\u001b[0m \u001b[39mif\u001b[39;00m numpy\u001b[39m.\u001b[39mlib\u001b[39m.\u001b[39mNumpyVersion(numpy\u001b[39m.\u001b[39m__version__) \u001b[39m>\u001b[39m \u001b[39m\"\u001b[39m\u001b[39m1.20.0\u001b[39m\u001b[39m\"\u001b[39m \u001b[39mand\u001b[39;00m sys\u001b[39m.\u001b[39mversion_info \u001b[39m>\u001b[39m\u001b[39m=\u001b[39m (\u001b[39m3\u001b[39m, \u001b[39m9\u001b[39m):\n\u001b[1;32m---> 69\u001b[0m     NumPyArrayGeneric \u001b[39m=\u001b[39m numpy\u001b[39m.\u001b[39mndarray[typing\u001b[39m.\u001b[39mAny, numpy\u001b[39m.\u001b[39;49mdtype[numpy\u001b[39m.\u001b[39;49mgeneric]]\n\u001b[0;32m     70\u001b[0m \u001b[39melse\u001b[39;00m:\n\u001b[0;32m     71\u001b[0m     NumPyArrayGeneric \u001b[39m=\u001b[39m numpy\u001b[39m.\u001b[39mndarray\n",
      "\u001b[1;31mTypeError\u001b[0m: 'numpy._DTypeMeta' object is not subscriptable"
     ]
    }
   ],
   "source": [
    "import cv2\n",
    "import mediapipe as mp\n",
    "\n",
    "# Initialize MediaPipe Pose\n",
    "mp_drawing = mp.solutions.drawing_utils\n",
    "mp_pose = mp.solutions.pose\n",
    "\n",
    "def main():\n",
    "    # Initialize webcam capture\n",
    "    cap = cv2.VideoCapture(0)\n",
    "\n",
    "    # Initialize MediaPipe Pose\n",
    "    with mp_pose.Pose(min_detection_confidence=0.5, min_tracking_confidence=0.5) as pose:\n",
    "        while True:\n",
    "            ret, frame = cap.read()\n",
    "            if not ret:\n",
    "                break\n",
    "\n",
    "            # Flip the frame horizontally for a later selfie-view display\n",
    "            frame = cv2.flip(frame, 1)\n",
    "\n",
    "            # Convert the BGR image to RGB\n",
    "            rgb_frame = cv2.cvtColor(frame, cv2.COLOR_BGR2RGB)\n",
    "\n",
    "            # Process the frame and detect poses\n",
    "            results = pose.process(rgb_frame)\n",
    "\n",
    "            if results.pose_landmarks:\n",
    "                # Render pose landmarks on the frame\n",
    "                mp_drawing.draw_landmarks(frame, results.pose_landmarks, mp_pose.POSE_CONNECTIONS)\n",
    "\n",
    "            # Display the frame\n",
    "            cv2.imshow(\"BlazePose Webcam\", frame)\n",
    "\n",
    "            if cv2.waitKey(1) & 0xFF == ord('q'):\n",
    "                break\n",
    "\n",
    "    # Release the webcam and close OpenCV windows\n",
    "    cap.release()\n",
    "    cv2.destroyAllWindows()\n",
    "\n",
    "if __name__ == \"__main__\":\n",
    "    main()\n"
   ]
  }
 ],
 "metadata": {
  "kernelspec": {
   "display_name": "Python 3 (ipykernel)",
   "language": "python",
   "name": "python3"
  },
  "language_info": {
   "codemirror_mode": {
    "name": "ipython",
    "version": 3
   },
   "file_extension": ".py",
   "mimetype": "text/x-python",
   "name": "python",
   "nbconvert_exporter": "python",
   "pygments_lexer": "ipython3",
   "version": "3.9.6"
  }
 },
 "nbformat": 4,
 "nbformat_minor": 5
}
